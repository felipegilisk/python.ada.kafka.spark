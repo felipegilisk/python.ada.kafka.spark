{
 "cells": [
  {
   "cell_type": "code",
   "execution_count": 0,
   "metadata": {
    "application/vnd.databricks.v1+cell": {
     "cellMetadata": {
      "byteLimit": 2048000,
      "implicitDf": true,
      "rowLimit": 10000
     },
     "inputWidgets": {},
     "nuid": "0039aa20-7196-4958-8b11-b41126b19519",
     "showTitle": false,
     "title": ""
    }
   },
   "outputs": [
    {
     "output_type": "display_data",
     "data": {
      "text/html": [
       "<style scoped>\n",
       "  .table-result-container {\n",
       "    max-height: 300px;\n",
       "    overflow: auto;\n",
       "  }\n",
       "  table, th, td {\n",
       "    border: 1px solid black;\n",
       "    border-collapse: collapse;\n",
       "  }\n",
       "  th, td {\n",
       "    padding: 5px;\n",
       "  }\n",
       "  th {\n",
       "    text-align: left;\n",
       "  }\n",
       "</style><div class='table-result-container'><table class='table-result'><thead style='background-color: white'><tr></tr></thead><tbody></tbody></table></div>"
      ]
     },
     "metadata": {
      "application/vnd.databricks.v1+output": {
       "addedWidgets": {},
       "aggData": [],
       "aggError": "",
       "aggOverflow": false,
       "aggSchema": [],
       "aggSeriesLimitReached": false,
       "aggType": "",
       "arguments": {},
       "columnCustomDisplayInfos": {},
       "data": [],
       "datasetInfos": [],
       "dbfsResultPath": null,
       "isJsonSchema": true,
       "metadata": {},
       "overflow": false,
       "plotOptions": {
        "customPlotOptions": {},
        "displayType": "table",
        "pivotAggregation": null,
        "pivotColumns": null,
        "xColumns": null,
        "yColumns": null
       },
       "removedWidgets": [],
       "schema": [],
       "type": "table"
      }
     },
     "output_type": "display_data"
    }
   ],
   "source": [
    "%sql\n",
    "CREATE DATABASE IF NOT EXISTS HEALTHGEN"
   ]
  },
  {
   "cell_type": "code",
   "execution_count": 0,
   "metadata": {
    "application/vnd.databricks.v1+cell": {
     "cellMetadata": {
      "byteLimit": 2048000,
      "implicitDf": true,
      "rowLimit": 10000
     },
     "inputWidgets": {},
     "nuid": "c216a6ef-72b3-46d7-99d7-0fe0be4c480d",
     "showTitle": false,
     "title": ""
    }
   },
   "outputs": [
    {
     "output_type": "display_data",
     "data": {
      "text/html": [
       "<style scoped>\n",
       "  .table-result-container {\n",
       "    max-height: 300px;\n",
       "    overflow: auto;\n",
       "  }\n",
       "  table, th, td {\n",
       "    border: 1px solid black;\n",
       "    border-collapse: collapse;\n",
       "  }\n",
       "  th, td {\n",
       "    padding: 5px;\n",
       "  }\n",
       "  th {\n",
       "    text-align: left;\n",
       "  }\n",
       "</style><div class='table-result-container'><table class='table-result'><thead style='background-color: white'><tr></tr></thead><tbody></tbody></table></div>"
      ]
     },
     "metadata": {
      "application/vnd.databricks.v1+output": {
       "addedWidgets": {},
       "aggData": [],
       "aggError": "",
       "aggOverflow": false,
       "aggSchema": [],
       "aggSeriesLimitReached": false,
       "aggType": "",
       "arguments": {},
       "columnCustomDisplayInfos": {},
       "data": [],
       "datasetInfos": [],
       "dbfsResultPath": null,
       "isJsonSchema": true,
       "metadata": {},
       "overflow": false,
       "plotOptions": {
        "customPlotOptions": {},
        "displayType": "table",
        "pivotAggregation": null,
        "pivotColumns": null,
        "xColumns": null,
        "yColumns": null
       },
       "removedWidgets": [],
       "schema": [],
       "type": "table"
      }
     },
     "output_type": "display_data"
    }
   ],
   "source": [
    "%sql\n",
    "USE HEALTHGEN"
   ]
  },
  {
   "cell_type": "code",
   "execution_count": 0,
   "metadata": {
    "application/vnd.databricks.v1+cell": {
     "cellMetadata": {
      "byteLimit": 2048000,
      "implicitDf": true,
      "rowLimit": 10000
     },
     "inputWidgets": {},
     "nuid": "a6a30eeb-46c9-4146-8988-b473d62331ed",
     "showTitle": false,
     "title": ""
    }
   },
   "outputs": [
    {
     "output_type": "display_data",
     "data": {
      "text/html": [
       "<style scoped>\n",
       "  .table-result-container {\n",
       "    max-height: 300px;\n",
       "    overflow: auto;\n",
       "  }\n",
       "  table, th, td {\n",
       "    border: 1px solid black;\n",
       "    border-collapse: collapse;\n",
       "  }\n",
       "  th, td {\n",
       "    padding: 5px;\n",
       "  }\n",
       "  th {\n",
       "    text-align: left;\n",
       "  }\n",
       "</style><div class='table-result-container'><table class='table-result'><thead style='background-color: white'><tr></tr></thead><tbody></tbody></table></div>"
      ]
     },
     "metadata": {
      "application/vnd.databricks.v1+output": {
       "addedWidgets": {},
       "aggData": [],
       "aggError": "",
       "aggOverflow": false,
       "aggSchema": [],
       "aggSeriesLimitReached": false,
       "aggType": "",
       "arguments": {},
       "columnCustomDisplayInfos": {},
       "data": [],
       "datasetInfos": [],
       "dbfsResultPath": null,
       "isJsonSchema": true,
       "metadata": {},
       "overflow": false,
       "plotOptions": {
        "customPlotOptions": {},
        "displayType": "table",
        "pivotAggregation": null,
        "pivotColumns": null,
        "xColumns": null,
        "yColumns": null
       },
       "removedWidgets": [],
       "schema": [],
       "type": "table"
      }
     },
     "output_type": "display_data"
    }
   ],
   "source": [
    "%sql\n",
    "-- Comando para refazer a tabela se necessário\n",
    "DROP TABLE tb_news"
   ]
  },
  {
   "cell_type": "code",
   "execution_count": 0,
   "metadata": {
    "application/vnd.databricks.v1+cell": {
     "cellMetadata": {
      "byteLimit": 2048000,
      "implicitDf": true,
      "rowLimit": 10000
     },
     "inputWidgets": {},
     "nuid": "8309e2f7-8117-4553-bc6e-0a78281cfa3b",
     "showTitle": false,
     "title": ""
    }
   },
   "outputs": [
    {
     "output_type": "stream",
     "name": "stdout",
     "output_type": "stream",
     "text": [
      "Out[18]: True"
     ]
    }
   ],
   "source": [
    "# Caso haja algum resquício da última execução, executar os comandos abaixo\n",
    "dbutils.fs.rm('/user/hive/warehouse/healthgen.db', True)\n",
    "dbutils.fs.rm('/FileStore/tables/projeto/checkpoint', True)"
   ]
  },
  {
   "cell_type": "code",
   "execution_count": 0,
   "metadata": {
    "application/vnd.databricks.v1+cell": {
     "cellMetadata": {
      "byteLimit": 2048000,
      "rowLimit": 10000
     },
     "inputWidgets": {},
     "nuid": "d5256477-b302-42c7-9d18-ecfa23e2a491",
     "showTitle": false,
     "title": ""
    }
   },
   "outputs": [],
   "source": [
    "import pyspark.pandas as ps\n",
    "\n",
    "ps.read_parquet('/FileStore/tables/projeto/news.parquet').to_table('HEALTHGEN.tb_news', 'parquet')"
   ]
  },
  {
   "cell_type": "code",
   "execution_count": 0,
   "metadata": {
    "application/vnd.databricks.v1+cell": {
     "cellMetadata": {
      "byteLimit": 2048000,
      "rowLimit": 10000
     },
     "inputWidgets": {},
     "nuid": "ebb07540-2554-442a-be62-62933e53330f",
     "showTitle": false,
     "title": ""
    }
   },
   "outputs": [
    {
     "output_type": "display_data",
     "data": {
      "text/html": [
       "<div>\n",
       "<style scoped>\n",
       "    .dataframe tbody tr th:only-of-type {\n",
       "        vertical-align: middle;\n",
       "    }\n",
       "\n",
       "    .dataframe tbody tr th {\n",
       "        vertical-align: top;\n",
       "    }\n",
       "\n",
       "    .dataframe thead th {\n",
       "        text-align: right;\n",
       "    }\n",
       "</style>\n",
       "<table border=\"1\" class=\"dataframe\">\n",
       "  <thead>\n",
       "    <tr style=\"text-align: right;\">\n",
       "      <th></th>\n",
       "      <th>source</th>\n",
       "      <th>author</th>\n",
       "      <th>title</th>\n",
       "      <th>description</th>\n",
       "      <th>url</th>\n",
       "      <th>urlToImage</th>\n",
       "      <th>publishedAt</th>\n",
       "      <th>content</th>\n",
       "      <th>searchTerm</th>\n",
       "      <th>sourceId</th>\n",
       "    </tr>\n",
       "  </thead>\n",
       "  <tbody>\n",
       "    <tr>\n",
       "      <th>0</th>\n",
       "      <td>Megacurioso.com.br</td>\n",
       "      <td>Pedro Freitas</td>\n",
       "      <td>Mistério de árvore 'congelada no tempo' por 66...</td>\n",
       "      <td>Em 1994, um bando de caminhantes acabou descob...</td>\n",
       "      <td>https://www.megacurioso.com.br//misterios/1274...</td>\n",
       "      <td>https://mega.ibxk.com.br/2023/09/22/2216354170...</td>\n",
       "      <td>2023-09-23T18:00:00Z</td>\n",
       "      <td>Em 1994, um bando de caminhantes acabou descob...</td>\n",
       "      <td>genoma</td>\n",
       "      <td>None</td>\n",
       "    </tr>\n",
       "    <tr>\n",
       "      <th>1</th>\n",
       "      <td>Mdig.com.br</td>\n",
       "      <td>https://www.facebook.com/luisaocs</td>\n",
       "      <td>Matusalém, o peixe de aquário vivo mais antigo...</td>\n",
       "      <td>Em novembro de 1938, um peixe pulmonado austra...</td>\n",
       "      <td>https://www.mdig.com.br/index.php?itemid=57658</td>\n",
       "      <td>https://imagens.mdig.com.br/bichos/peixe_matus...</td>\n",
       "      <td>2023-09-22T22:47:38Z</td>\n",
       "      <td>&lt;table&gt;&lt;tr&gt;&lt;td&gt;&lt;/td&gt;&lt;td&gt;Em novembro de 1938, u...</td>\n",
       "      <td>genoma</td>\n",
       "      <td>None</td>\n",
       "    </tr>\n",
       "    <tr>\n",
       "      <th>2</th>\n",
       "      <td>Megacurioso.com.br</td>\n",
       "      <td>Pedro Freitas</td>\n",
       "      <td>Novo vírus é descoberto nas profundezas da Fos...</td>\n",
       "      <td>Em um novo estudo, investigadores encontraram ...</td>\n",
       "      <td>https://www.megacurioso.com.br//ciencia/127417...</td>\n",
       "      <td>https://mega.ibxk.com.br/2023/09/22/2212592439...</td>\n",
       "      <td>2023-09-22T22:00:00Z</td>\n",
       "      <td>Em um novo estudo, investigadores encontraram ...</td>\n",
       "      <td>genoma</td>\n",
       "      <td>None</td>\n",
       "    </tr>\n",
       "    <tr>\n",
       "      <th>3</th>\n",
       "      <td>Olhardigital.com.br</td>\n",
       "      <td>Alessandro Di Lorenzo</td>\n",
       "      <td>Novo vírus é descoberto nas profundezas da Fos...</td>\n",
       "      <td>Bacteriófago, um tipo de vírus que infecta e s...</td>\n",
       "      <td>https://olhardigital.com.br/2023/09/21/ciencia...</td>\n",
       "      <td>https://proxy.olhardigital.com.br/wp-content/u...</td>\n",
       "      <td>2023-09-21T20:26:34Z</td>\n",
       "      <td>Segundo dados da AdministraÃ§Ã£o Nacional OceÃ...</td>\n",
       "      <td>genoma</td>\n",
       "      <td>None</td>\n",
       "    </tr>\n",
       "    <tr>\n",
       "      <th>4</th>\n",
       "      <td>Sputniknewsbr.com.br</td>\n",
       "      <td>Sputnik Brasil</td>\n",
       "      <td>Cientistas recriam gelos interestelares 'açuca...</td>\n",
       "      <td>Cientistas da Universidade Estatal de Samara, ...</td>\n",
       "      <td>https://sputniknewsbr.com.br/20230920/cientist...</td>\n",
       "      <td>https://cdn1.sputniknewsbr.com.br/images/shari...</td>\n",
       "      <td>2023-09-20T16:42:46Z</td>\n",
       "      <td>As principais notícias, reportagens e artigos ...</td>\n",
       "      <td>genoma</td>\n",
       "      <td>None</td>\n",
       "    </tr>\n",
       "  </tbody>\n",
       "</table>\n",
       "</div>"
      ]
     },
     "metadata": {
      "application/vnd.databricks.v1+output": {
       "addedWidgets": {},
       "arguments": {},
       "data": "<div>\n<style scoped>\n    .dataframe tbody tr th:only-of-type {\n        vertical-align: middle;\n    }\n\n    .dataframe tbody tr th {\n        vertical-align: top;\n    }\n\n    .dataframe thead th {\n        text-align: right;\n    }\n</style>\n<table border=\"1\" class=\"dataframe\">\n  <thead>\n    <tr style=\"text-align: right;\">\n      <th></th>\n      <th>source</th>\n      <th>author</th>\n      <th>title</th>\n      <th>description</th>\n      <th>url</th>\n      <th>urlToImage</th>\n      <th>publishedAt</th>\n      <th>content</th>\n      <th>searchTerm</th>\n      <th>sourceId</th>\n    </tr>\n  </thead>\n  <tbody>\n    <tr>\n      <th>0</th>\n      <td>Megacurioso.com.br</td>\n      <td>Pedro Freitas</td>\n      <td>Mistério de árvore 'congelada no tempo' por 66...</td>\n      <td>Em 1994, um bando de caminhantes acabou descob...</td>\n      <td>https://www.megacurioso.com.br//misterios/1274...</td>\n      <td>https://mega.ibxk.com.br/2023/09/22/2216354170...</td>\n      <td>2023-09-23T18:00:00Z</td>\n      <td>Em 1994, um bando de caminhantes acabou descob...</td>\n      <td>genoma</td>\n      <td>None</td>\n    </tr>\n    <tr>\n      <th>1</th>\n      <td>Mdig.com.br</td>\n      <td>https://www.facebook.com/luisaocs</td>\n      <td>Matusalém, o peixe de aquário vivo mais antigo...</td>\n      <td>Em novembro de 1938, um peixe pulmonado austra...</td>\n      <td>https://www.mdig.com.br/index.php?itemid=57658</td>\n      <td>https://imagens.mdig.com.br/bichos/peixe_matus...</td>\n      <td>2023-09-22T22:47:38Z</td>\n      <td>&lt;table&gt;&lt;tr&gt;&lt;td&gt;&lt;/td&gt;&lt;td&gt;Em novembro de 1938, u...</td>\n      <td>genoma</td>\n      <td>None</td>\n    </tr>\n    <tr>\n      <th>2</th>\n      <td>Megacurioso.com.br</td>\n      <td>Pedro Freitas</td>\n      <td>Novo vírus é descoberto nas profundezas da Fos...</td>\n      <td>Em um novo estudo, investigadores encontraram ...</td>\n      <td>https://www.megacurioso.com.br//ciencia/127417...</td>\n      <td>https://mega.ibxk.com.br/2023/09/22/2212592439...</td>\n      <td>2023-09-22T22:00:00Z</td>\n      <td>Em um novo estudo, investigadores encontraram ...</td>\n      <td>genoma</td>\n      <td>None</td>\n    </tr>\n    <tr>\n      <th>3</th>\n      <td>Olhardigital.com.br</td>\n      <td>Alessandro Di Lorenzo</td>\n      <td>Novo vírus é descoberto nas profundezas da Fos...</td>\n      <td>Bacteriófago, um tipo de vírus que infecta e s...</td>\n      <td>https://olhardigital.com.br/2023/09/21/ciencia...</td>\n      <td>https://proxy.olhardigital.com.br/wp-content/u...</td>\n      <td>2023-09-21T20:26:34Z</td>\n      <td>Segundo dados da AdministraÃ§Ã£o Nacional OceÃ...</td>\n      <td>genoma</td>\n      <td>None</td>\n    </tr>\n    <tr>\n      <th>4</th>\n      <td>Sputniknewsbr.com.br</td>\n      <td>Sputnik Brasil</td>\n      <td>Cientistas recriam gelos interestelares 'açuca...</td>\n      <td>Cientistas da Universidade Estatal de Samara, ...</td>\n      <td>https://sputniknewsbr.com.br/20230920/cientist...</td>\n      <td>https://cdn1.sputniknewsbr.com.br/images/shari...</td>\n      <td>2023-09-20T16:42:46Z</td>\n      <td>As principais notícias, reportagens e artigos ...</td>\n      <td>genoma</td>\n      <td>None</td>\n    </tr>\n  </tbody>\n</table>\n</div>",
       "datasetInfos": [],
       "metadata": {},
       "removedWidgets": [],
       "textData": null,
       "type": "htmlSandbox"
      }
     },
     "output_type": "display_data"
    }
   ],
   "source": [
    "# Teste de leitura da tabela\n",
    "ps.read_table('%s.tb_news' % 'HEALTHGEN').head()"
   ]
  },
  {
   "cell_type": "code",
   "execution_count": 0,
   "metadata": {
    "application/vnd.databricks.v1+cell": {
     "cellMetadata": {
      "byteLimit": 2048000,
      "rowLimit": 10000
     },
     "inputWidgets": {},
     "nuid": "e9d11375-7cd3-4d3b-92e0-114e78290207",
     "showTitle": false,
     "title": ""
    }
   },
   "outputs": [
    {
     "output_type": "display_data",
     "data": {
      "text/html": [
       "<div>\n",
       "<style scoped>\n",
       "    .dataframe tbody tr th:only-of-type {\n",
       "        vertical-align: middle;\n",
       "    }\n",
       "\n",
       "    .dataframe tbody tr th {\n",
       "        vertical-align: top;\n",
       "    }\n",
       "\n",
       "    .dataframe thead th {\n",
       "        text-align: right;\n",
       "    }\n",
       "</style>\n",
       "<table border=\"1\" class=\"dataframe\">\n",
       "  <thead>\n",
       "    <tr style=\"text-align: right;\">\n",
       "      <th></th>\n",
       "      <th>source</th>\n",
       "      <th>author</th>\n",
       "      <th>title</th>\n",
       "      <th>description</th>\n",
       "      <th>url</th>\n",
       "      <th>urlToImage</th>\n",
       "      <th>publishedAt</th>\n",
       "      <th>content</th>\n",
       "      <th>searchTerm</th>\n",
       "      <th>sourceId</th>\n",
       "    </tr>\n",
       "  </thead>\n",
       "  <tbody>\n",
       "    <tr>\n",
       "      <th>0</th>\n",
       "      <td>BBC News</td>\n",
       "      <td>BBC News Brasil</td>\n",
       "      <td>Nobel de Medicina 2023: a história dos cientis...</td>\n",
       "      <td>Pesquisas realizadas pelos cientistas foram vi...</td>\n",
       "      <td>https://www.bbc.com/portuguese/articles/c4nx3e...</td>\n",
       "      <td>https://p2.trrsf.com/image/fget/cf/1200/630/mi...</td>\n",
       "      <td>2023-10-02T10:54:39Z</td>\n",
       "      <td>O Prêmio Nobel de Medicina e Fisiologia de 202...</td>\n",
       "      <td>None</td>\n",
       "      <td>None</td>\n",
       "    </tr>\n",
       "    <tr>\n",
       "      <th>1</th>\n",
       "      <td>Terra.com.br</td>\n",
       "      <td>Estadão Conteúdo</td>\n",
       "      <td>Prêmio Nobel de Medicina será anunciado na man...</td>\n",
       "      <td>O Prêmio Nobel de Fisiologia e Medicina deste ...</td>\n",
       "      <td>https://www.terra.com.br/byte/ciencia/premio-n...</td>\n",
       "      <td>https://s1.trrsf.com/fe/zaz-mod-t360-icons/svg...</td>\n",
       "      <td>2023-10-01T21:10:46Z</td>\n",
       "      <td>O Prêmio Nobel de Fisiologia e Medicina deste ...</td>\n",
       "      <td>None</td>\n",
       "      <td>None</td>\n",
       "    </tr>\n",
       "    <tr>\n",
       "      <th>2</th>\n",
       "      <td>Terra.com.br</td>\n",
       "      <td>Estadão Conteúdo</td>\n",
       "      <td>Nobel de Medicina premia responsáveis pela tec...</td>\n",
       "      <td>Bioquímica húngara Katalin Karikó e o imunolog...</td>\n",
       "      <td>https://www.terra.com.br/vida-e-estilo/saude/n...</td>\n",
       "      <td>https://s1.trrsf.com/fe/zaz-mod-t360-icons/svg...</td>\n",
       "      <td>2023-10-02T10:06:26Z</td>\n",
       "      <td>O Prêmio Nobel de Fisiologia e Medicina deste ...</td>\n",
       "      <td>None</td>\n",
       "      <td>None</td>\n",
       "    </tr>\n",
       "  </tbody>\n",
       "</table>\n",
       "</div>"
      ]
     },
     "metadata": {
      "application/vnd.databricks.v1+output": {
       "addedWidgets": {},
       "arguments": {},
       "data": "<div>\n<style scoped>\n    .dataframe tbody tr th:only-of-type {\n        vertical-align: middle;\n    }\n\n    .dataframe tbody tr th {\n        vertical-align: top;\n    }\n\n    .dataframe thead th {\n        text-align: right;\n    }\n</style>\n<table border=\"1\" class=\"dataframe\">\n  <thead>\n    <tr style=\"text-align: right;\">\n      <th></th>\n      <th>source</th>\n      <th>author</th>\n      <th>title</th>\n      <th>description</th>\n      <th>url</th>\n      <th>urlToImage</th>\n      <th>publishedAt</th>\n      <th>content</th>\n      <th>searchTerm</th>\n      <th>sourceId</th>\n    </tr>\n  </thead>\n  <tbody>\n    <tr>\n      <th>0</th>\n      <td>BBC News</td>\n      <td>BBC News Brasil</td>\n      <td>Nobel de Medicina 2023: a história dos cientis...</td>\n      <td>Pesquisas realizadas pelos cientistas foram vi...</td>\n      <td>https://www.bbc.com/portuguese/articles/c4nx3e...</td>\n      <td>https://p2.trrsf.com/image/fget/cf/1200/630/mi...</td>\n      <td>2023-10-02T10:54:39Z</td>\n      <td>O Prêmio Nobel de Medicina e Fisiologia de 202...</td>\n      <td>None</td>\n      <td>None</td>\n    </tr>\n    <tr>\n      <th>1</th>\n      <td>Terra.com.br</td>\n      <td>Estadão Conteúdo</td>\n      <td>Prêmio Nobel de Medicina será anunciado na man...</td>\n      <td>O Prêmio Nobel de Fisiologia e Medicina deste ...</td>\n      <td>https://www.terra.com.br/byte/ciencia/premio-n...</td>\n      <td>https://s1.trrsf.com/fe/zaz-mod-t360-icons/svg...</td>\n      <td>2023-10-01T21:10:46Z</td>\n      <td>O Prêmio Nobel de Fisiologia e Medicina deste ...</td>\n      <td>None</td>\n      <td>None</td>\n    </tr>\n    <tr>\n      <th>2</th>\n      <td>Terra.com.br</td>\n      <td>Estadão Conteúdo</td>\n      <td>Nobel de Medicina premia responsáveis pela tec...</td>\n      <td>Bioquímica húngara Katalin Karikó e o imunolog...</td>\n      <td>https://www.terra.com.br/vida-e-estilo/saude/n...</td>\n      <td>https://s1.trrsf.com/fe/zaz-mod-t360-icons/svg...</td>\n      <td>2023-10-02T10:06:26Z</td>\n      <td>O Prêmio Nobel de Fisiologia e Medicina deste ...</td>\n      <td>None</td>\n      <td>None</td>\n    </tr>\n  </tbody>\n</table>\n</div>",
       "datasetInfos": [],
       "metadata": {},
       "removedWidgets": [],
       "textData": null,
       "type": "htmlSandbox"
      }
     },
     "output_type": "display_data"
    }
   ],
   "source": [
    "# Teste de leitura do parquet\n",
    "ps.read_parquet('/FileStore/tables/projeto/news.parquet')"
   ]
  }
 ],
 "metadata": {
  "application/vnd.databricks.v1+notebook": {
   "dashboards": [],
   "language": "python",
   "notebookMetadata": {
    "mostRecentlyExecutedCommandWithImplicitDF": {
     "commandId": 229986865813037,
     "dataframes": [
      "_sqldf"
     ]
    },
    "pythonIndentUnit": 4
   },
   "notebookName": "projeto_pt3_database",
   "widgets": {}
  }
 },
 "nbformat": 4,
 "nbformat_minor": 0
}
