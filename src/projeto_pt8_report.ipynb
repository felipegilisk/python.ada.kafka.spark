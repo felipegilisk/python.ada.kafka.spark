{
 "cells": [
  {
   "cell_type": "code",
   "execution_count": 0,
   "metadata": {
    "application/vnd.databricks.v1+cell": {
     "cellMetadata": {
      "byteLimit": 2048000,
      "rowLimit": 10000
     },
     "inputWidgets": {},
     "nuid": "fa9c68d9-af95-42f3-a810-027130818e3b",
     "showTitle": false,
     "title": ""
    }
   },
   "outputs": [
    {
     "output_type": "display_data",
     "data": {
      "text/html": [
       "<div>\n",
       "<style scoped>\n",
       "    .dataframe tbody tr th:only-of-type {\n",
       "        vertical-align: middle;\n",
       "    }\n",
       "\n",
       "    .dataframe tbody tr th {\n",
       "        vertical-align: top;\n",
       "    }\n",
       "\n",
       "    .dataframe thead th {\n",
       "        text-align: right;\n",
       "    }\n",
       "</style>\n",
       "<table border=\"1\" class=\"dataframe\">\n",
       "  <thead>\n",
       "    <tr style=\"text-align: right;\">\n",
       "      <th></th>\n",
       "      <th>source</th>\n",
       "      <th>author</th>\n",
       "      <th>title</th>\n",
       "      <th>description</th>\n",
       "      <th>url</th>\n",
       "      <th>urlToImage</th>\n",
       "      <th>publishedAt</th>\n",
       "      <th>content</th>\n",
       "      <th>searchTerm</th>\n",
       "      <th>sourceId</th>\n",
       "    </tr>\n",
       "  </thead>\n",
       "  <tbody>\n",
       "    <tr>\n",
       "      <th>0</th>\n",
       "      <td>Megacurioso.com.br</td>\n",
       "      <td>Pedro Freitas</td>\n",
       "      <td>Mistério de árvore 'congelada no tempo' por 66...</td>\n",
       "      <td>Em 1994, um bando de caminhantes acabou descob...</td>\n",
       "      <td>https://www.megacurioso.com.br//misterios/1274...</td>\n",
       "      <td>https://mega.ibxk.com.br/2023/09/22/2216354170...</td>\n",
       "      <td>2023-09-23T18:00:00Z</td>\n",
       "      <td>Em 1994, um bando de caminhantes acabou descob...</td>\n",
       "      <td>genoma</td>\n",
       "      <td>None</td>\n",
       "    </tr>\n",
       "    <tr>\n",
       "      <th>1</th>\n",
       "      <td>Mdig.com.br</td>\n",
       "      <td>https://www.facebook.com/luisaocs</td>\n",
       "      <td>Matusalém, o peixe de aquário vivo mais antigo...</td>\n",
       "      <td>Em novembro de 1938, um peixe pulmonado austra...</td>\n",
       "      <td>https://www.mdig.com.br/index.php?itemid=57658</td>\n",
       "      <td>https://imagens.mdig.com.br/bichos/peixe_matus...</td>\n",
       "      <td>2023-09-22T22:47:38Z</td>\n",
       "      <td>&lt;table&gt;&lt;tr&gt;&lt;td&gt;&lt;/td&gt;&lt;td&gt;Em novembro de 1938, u...</td>\n",
       "      <td>genoma</td>\n",
       "      <td>None</td>\n",
       "    </tr>\n",
       "    <tr>\n",
       "      <th>2</th>\n",
       "      <td>Megacurioso.com.br</td>\n",
       "      <td>Pedro Freitas</td>\n",
       "      <td>Novo vírus é descoberto nas profundezas da Fos...</td>\n",
       "      <td>Em um novo estudo, investigadores encontraram ...</td>\n",
       "      <td>https://www.megacurioso.com.br//ciencia/127417...</td>\n",
       "      <td>https://mega.ibxk.com.br/2023/09/22/2212592439...</td>\n",
       "      <td>2023-09-22T22:00:00Z</td>\n",
       "      <td>Em um novo estudo, investigadores encontraram ...</td>\n",
       "      <td>genoma</td>\n",
       "      <td>None</td>\n",
       "    </tr>\n",
       "    <tr>\n",
       "      <th>3</th>\n",
       "      <td>Olhardigital.com.br</td>\n",
       "      <td>Alessandro Di Lorenzo</td>\n",
       "      <td>Novo vírus é descoberto nas profundezas da Fos...</td>\n",
       "      <td>Bacteriófago, um tipo de vírus que infecta e s...</td>\n",
       "      <td>https://olhardigital.com.br/2023/09/21/ciencia...</td>\n",
       "      <td>https://proxy.olhardigital.com.br/wp-content/u...</td>\n",
       "      <td>2023-09-21T20:26:34Z</td>\n",
       "      <td>Segundo dados da AdministraÃ§Ã£o Nacional OceÃ...</td>\n",
       "      <td>genoma</td>\n",
       "      <td>None</td>\n",
       "    </tr>\n",
       "    <tr>\n",
       "      <th>4</th>\n",
       "      <td>Sputniknewsbr.com.br</td>\n",
       "      <td>Sputnik Brasil</td>\n",
       "      <td>Cientistas recriam gelos interestelares 'açuca...</td>\n",
       "      <td>Cientistas da Universidade Estatal de Samara, ...</td>\n",
       "      <td>https://sputniknewsbr.com.br/20230920/cientist...</td>\n",
       "      <td>https://cdn1.sputniknewsbr.com.br/images/shari...</td>\n",
       "      <td>2023-09-20T16:42:46Z</td>\n",
       "      <td>As principais notícias, reportagens e artigos ...</td>\n",
       "      <td>genoma</td>\n",
       "      <td>None</td>\n",
       "    </tr>\n",
       "  </tbody>\n",
       "</table>\n",
       "</div>"
      ]
     },
     "metadata": {
      "application/vnd.databricks.v1+output": {
       "addedWidgets": {},
       "arguments": {},
       "data": "<div>\n<style scoped>\n    .dataframe tbody tr th:only-of-type {\n        vertical-align: middle;\n    }\n\n    .dataframe tbody tr th {\n        vertical-align: top;\n    }\n\n    .dataframe thead th {\n        text-align: right;\n    }\n</style>\n<table border=\"1\" class=\"dataframe\">\n  <thead>\n    <tr style=\"text-align: right;\">\n      <th></th>\n      <th>source</th>\n      <th>author</th>\n      <th>title</th>\n      <th>description</th>\n      <th>url</th>\n      <th>urlToImage</th>\n      <th>publishedAt</th>\n      <th>content</th>\n      <th>searchTerm</th>\n      <th>sourceId</th>\n    </tr>\n  </thead>\n  <tbody>\n    <tr>\n      <th>0</th>\n      <td>Megacurioso.com.br</td>\n      <td>Pedro Freitas</td>\n      <td>Mistério de árvore 'congelada no tempo' por 66...</td>\n      <td>Em 1994, um bando de caminhantes acabou descob...</td>\n      <td>https://www.megacurioso.com.br//misterios/1274...</td>\n      <td>https://mega.ibxk.com.br/2023/09/22/2216354170...</td>\n      <td>2023-09-23T18:00:00Z</td>\n      <td>Em 1994, um bando de caminhantes acabou descob...</td>\n      <td>genoma</td>\n      <td>None</td>\n    </tr>\n    <tr>\n      <th>1</th>\n      <td>Mdig.com.br</td>\n      <td>https://www.facebook.com/luisaocs</td>\n      <td>Matusalém, o peixe de aquário vivo mais antigo...</td>\n      <td>Em novembro de 1938, um peixe pulmonado austra...</td>\n      <td>https://www.mdig.com.br/index.php?itemid=57658</td>\n      <td>https://imagens.mdig.com.br/bichos/peixe_matus...</td>\n      <td>2023-09-22T22:47:38Z</td>\n      <td>&lt;table&gt;&lt;tr&gt;&lt;td&gt;&lt;/td&gt;&lt;td&gt;Em novembro de 1938, u...</td>\n      <td>genoma</td>\n      <td>None</td>\n    </tr>\n    <tr>\n      <th>2</th>\n      <td>Megacurioso.com.br</td>\n      <td>Pedro Freitas</td>\n      <td>Novo vírus é descoberto nas profundezas da Fos...</td>\n      <td>Em um novo estudo, investigadores encontraram ...</td>\n      <td>https://www.megacurioso.com.br//ciencia/127417...</td>\n      <td>https://mega.ibxk.com.br/2023/09/22/2212592439...</td>\n      <td>2023-09-22T22:00:00Z</td>\n      <td>Em um novo estudo, investigadores encontraram ...</td>\n      <td>genoma</td>\n      <td>None</td>\n    </tr>\n    <tr>\n      <th>3</th>\n      <td>Olhardigital.com.br</td>\n      <td>Alessandro Di Lorenzo</td>\n      <td>Novo vírus é descoberto nas profundezas da Fos...</td>\n      <td>Bacteriófago, um tipo de vírus que infecta e s...</td>\n      <td>https://olhardigital.com.br/2023/09/21/ciencia...</td>\n      <td>https://proxy.olhardigital.com.br/wp-content/u...</td>\n      <td>2023-09-21T20:26:34Z</td>\n      <td>Segundo dados da AdministraÃ§Ã£o Nacional OceÃ...</td>\n      <td>genoma</td>\n      <td>None</td>\n    </tr>\n    <tr>\n      <th>4</th>\n      <td>Sputniknewsbr.com.br</td>\n      <td>Sputnik Brasil</td>\n      <td>Cientistas recriam gelos interestelares 'açuca...</td>\n      <td>Cientistas da Universidade Estatal de Samara, ...</td>\n      <td>https://sputniknewsbr.com.br/20230920/cientist...</td>\n      <td>https://cdn1.sputniknewsbr.com.br/images/shari...</td>\n      <td>2023-09-20T16:42:46Z</td>\n      <td>As principais notícias, reportagens e artigos ...</td>\n      <td>genoma</td>\n      <td>None</td>\n    </tr>\n  </tbody>\n</table>\n</div>",
       "datasetInfos": [],
       "metadata": {},
       "removedWidgets": [],
       "textData": null,
       "type": "htmlSandbox"
      }
     },
     "output_type": "display_data"
    }
   ],
   "source": [
    "import pyspark.pandas as ps\n",
    "\n",
    "# df_news = ps.read_table('%s.tb_news' % 'HEALTHGEN')\n",
    "df_news = ps.read_parquet('/FileStore/tables/projeto/news.parquet')\n",
    "df_news.head()"
   ]
  },
  {
   "cell_type": "code",
   "execution_count": 0,
   "metadata": {
    "application/vnd.databricks.v1+cell": {
     "cellMetadata": {
      "byteLimit": 2048000,
      "rowLimit": 10000
     },
     "inputWidgets": {},
     "nuid": "a3574265-5f4e-45e4-87f5-e4c78ccd9116",
     "showTitle": false,
     "title": ""
    }
   },
   "outputs": [
    {
     "output_type": "stream",
     "name": "stdout",
     "output_type": "stream",
     "text": [
      "Out[27]: publicacao\n2023-09-04    1\n2023-09-07    1\n2023-09-10    1\n2023-09-11    1\n2023-09-14    6\n2023-09-15    1\n2023-09-17    2\n2023-09-18    1\n2023-09-19    1\n2023-09-20    4\n2023-09-21    1\n2023-09-22    2\n2023-09-23    1\n2023-09-25    2\n2023-09-26    3\n2023-09-28    2\n2023-09-29    2\n2023-09-30    1\n2023-10-01    4\n2023-10-02    8\n2023-10-03    3\nName: url, dtype: int64"
     ]
    }
   ],
   "source": [
    "# Quantidade de notícias por ano, mês e dia de publicação\n",
    "import datetime\n",
    "\n",
    "df_item_a = df_news.to_pandas()\n",
    "df_item_a['publicacao'] = df_item_a['publishedAt'].apply(lambda x: datetime.datetime.strptime(x, '%Y-%m-%dT%H:%M:%SZ').date())\n",
    "df_item_a.groupby(['publicacao'])['url'].count()\n"
   ]
  },
  {
   "cell_type": "code",
   "execution_count": 0,
   "metadata": {
    "application/vnd.databricks.v1+cell": {
     "cellMetadata": {
      "byteLimit": 2048000,
      "rowLimit": 10000
     },
     "inputWidgets": {},
     "nuid": "2823f778-b7a9-4824-b937-5bf6c7401ab2",
     "showTitle": false,
     "title": ""
    }
   },
   "outputs": [
    {
     "output_type": "stream",
     "name": "stdout",
     "output_type": "stream",
     "text": [
      "Out[28]: author                                    source              \nSputnik Brasil                            Sputniknewsbr.com.br    1\nhttps://www.facebook.com/luisaocs         Mdig.com.br             1\nPedro Freitas                             Megacurioso.com.br      2\nJorge Marin                               Tecmundo.com.br         2\nAlessandro Di Lorenzo                     Olhardigital.com.br     5\nBBC News Brasil                           BBC News                3\nEstadão Conteúdo                          Terra.com.br            6\nDINO                                      Terra.com.br            2\nCanaltech                                 Canaltech.com.br        1\nReuters                                   Dinheirama.com          1\nEstella Abreu                             Olhardigital.com.br     1\nRevista Oeste - Internacional             Revistaoeste.com        1\nStartupi                                  Startupi.com.br         1\nThiago Fabrício de Mello Elias            Megacurioso.com.br      1\nAlisson Santos                            Olhardigital.com.br     1\nDa Redação                                Abril.com.br            1\nFlipar, Flipar                            Ig.com.br               1\nFlavia Correia                            Olhardigital.com.br     2\nRedação                                   Abril.com.br            1\nReuters                                   Terra.com.br            2\nAnsa                                      Terra.com.br            1\nLuís Felipe Granado, Luís Felipe Granado  Ig.com.br               1\nGiovanna Estrela                          Metropoles.com          1\nRedação                                   Catracalivre.com.br     2\nBruno Garattoni                           Abril.com.br            1\nDeutsche Welle                            Terra.com.br            1\nGreen Savers                              Sapo.pt                 1\nName: url, dtype: int64"
     ]
    }
   ],
   "source": [
    "# Quantidade de notícias por fonte e autor\n",
    "df_item_b = df_news.groupby(['author','source'])['url'].count()\n",
    "df_item_b"
   ]
  },
  {
   "cell_type": "code",
   "execution_count": 0,
   "metadata": {
    "application/vnd.databricks.v1+cell": {
     "cellMetadata": {
      "byteLimit": 2048000,
      "rowLimit": 10000
     },
     "inputWidgets": {},
     "nuid": "acb5415e-344f-4cd4-a426-4be674e338c9",
     "showTitle": false,
     "title": ""
    }
   },
   "outputs": [
    {
     "output_type": "stream",
     "name": "stdout",
     "output_type": "stream",
     "text": [
      "Out[29]: publicacao  searchTerm        \n2023-09-04  sequenciamento DNA    1\n2023-09-07  genoma                1\n2023-09-10  genoma                1\n2023-09-11  genoma                1\n2023-09-14  genoma                5\n            sequenciamento DNA    1\n2023-09-15  genoma                1\n2023-09-17  genoma                1\n            sequenciamento DNA    1\n2023-09-18  genoma                1\n2023-09-19  sequenciamento DNA    1\n2023-09-20  genoma                3\n            sequenciamento DNA    1\n2023-09-21  genoma                1\n2023-09-22  genoma                2\n2023-09-23  genoma                1\n2023-09-25  genoma                2\n2023-09-26  genoma                2\n            sequenciamento DNA    1\n2023-09-28  genoma                1\n            sequenciamento DNA    1\n2023-09-29  genoma                1\n            sequenciamento DNA    1\n2023-09-30  genoma                1\n2023-10-01  genoma                2\n            sequenciamento DNA    2\n2023-10-02  genoma                6\n            sequenciamento DNA    2\n2023-10-03  genoma                3\nName: url, dtype: int64"
     ]
    }
   ],
   "source": [
    "# Quantidade de aparições das palavras chaves por ano, mês e dia de publicação\n",
    "df_item_c = df_item_a.sort_values(['publicacao']).groupby(['publicacao', 'searchTerm'])['url'].count()\n",
    "df_item_c"
   ]
  }
 ],
 "metadata": {
  "application/vnd.databricks.v1+notebook": {
   "dashboards": [],
   "language": "python",
   "notebookMetadata": {
    "mostRecentlyExecutedCommandWithImplicitDF": {
     "commandId": 229986865813038,
     "dataframes": [
      "_sqldf"
     ]
    },
    "pythonIndentUnit": 4
   },
   "notebookName": "projeto_pt8_relatorio",
   "widgets": {}
  },
  "kernelspec": {
   "display_name": "Python 3",
   "language": "python",
   "name": "python3"
  },
  "language_info": {
   "codemirror_mode": {
    "name": "ipython",
    "version": 3
   },
   "file_extension": ".py",
   "mimetype": "text/x-python",
   "name": "python",
   "nbconvert_exporter": "python",
   "pygments_lexer": "ipython3",
   "version": "3.10.4"
  },
  "orig_nbformat": 4
 },
 "nbformat": 4,
 "nbformat_minor": 0
}
