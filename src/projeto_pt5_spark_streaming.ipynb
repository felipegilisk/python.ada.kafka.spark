{
 "cells": [
  {
   "cell_type": "code",
   "execution_count": 0,
   "metadata": {
    "application/vnd.databricks.v1+cell": {
     "cellMetadata": {
      "byteLimit": 2048000,
      "rowLimit": 10000
     },
     "inputWidgets": {},
     "nuid": "13a75f2b-1a0a-4d81-a286-d4115249febd",
     "showTitle": false,
     "title": ""
    }
   },
   "outputs": [],
   "source": [
    "from pyspark.sql.functions import col, from_json\n",
    "from pyspark.sql.types import IntegerType, StringType, StructType, DateType\n",
    "\n",
    "\n",
    "df = spark.readStream \\\n",
    "    .format(\"kafka\") \\\n",
    "    .option(\"kafka.bootstrap.servers\", \"localhost:9092\") \\\n",
    "    .option(\"subscribe\", \"1st_topic_news\") \\\n",
    "    .option(\"failOnDataLoss\", \"false\") \\\n",
    "    .option(\"startingOffsets\", \"earliest\") \\\n",
    "    .load()\n",
    "\n",
    "#define o esquema da tabela resultado do streaming a partir da estrutura esperada da mensagem do Kafka\n",
    "schema = StructType() \\\n",
    "    .add(\"source\", StringType()) \\\n",
    "    .add(\"sourceId\", StringType()) \\\n",
    "    .add(\"author\", StringType()) \\\n",
    "    .add(\"title\", StringType()) \\\n",
    "    .add(\"description\", StringType()) \\\n",
    "    .add(\"url\", StringType()) \\\n",
    "    .add(\"urlToImage\", StringType()) \\\n",
    "    .add(\"publishedAt\", StringType()) \\\n",
    "    .add(\"content\", StringType()) \\\n",
    "    .add(\"termo\", StringType())\n",
    "\n",
    "# traduz a mensagem com o esquema definido\n",
    "df_res = df.selectExpr(\"CAST(value AS STRING)\") \\\n",
    "    .select(from_json(col(\"value\"), schema).alias(\"data\")) \\\n",
    "    .select(\"data.*\")\n",
    "\n",
    "# Grava na delta table\n",
    "df_res.writeStream \\\n",
    "    .format(\"parquet\")\\\n",
    "    .outputMode(\"append\") \\\n",
    "    .option(\"checkpointLocation\", \"/FileStore/tables/projeto/checkpoint\") \\\n",
    "    .option(\"failOnDataLoss\", \"false\") \\\n",
    "    .toTable('HEALTHGEN.tb_news') \\\n",
    "    .awaitTermination()\n"
   ]
  }
 ],
 "metadata": {
  "application/vnd.databricks.v1+notebook": {
   "dashboards": [],
   "language": "python",
   "notebookMetadata": {
    "mostRecentlyExecutedCommandWithImplicitDF": {
     "commandId": 4315844673832686,
     "dataframes": [
      "_sqldf"
     ]
    },
    "pythonIndentUnit": 4
   },
   "notebookName": "projeto_pt5_spark_streaming",
   "widgets": {}
  },
  "kernelspec": {
   "display_name": "Python 3",
   "language": "python",
   "name": "python3"
  },
  "language_info": {
   "codemirror_mode": {
    "name": "ipython",
    "version": 3
   },
   "file_extension": ".py",
   "mimetype": "text/x-python",
   "name": "python",
   "nbconvert_exporter": "python",
   "pygments_lexer": "ipython3",
   "version": "3.10.4"
  },
  "orig_nbformat": 4
 },
 "nbformat": 4,
 "nbformat_minor": 0
}
