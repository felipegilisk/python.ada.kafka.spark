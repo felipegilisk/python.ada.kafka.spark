{
 "cells": [
  {
   "cell_type": "code",
   "execution_count": 0,
   "metadata": {
    "application/vnd.databricks.v1+cell": {
     "cellMetadata": {
      "byteLimit": 2048000,
      "rowLimit": 10000
     },
     "inputWidgets": {},
     "nuid": "e106b091-93d0-4be1-a54e-bb21bd2bf34f",
     "showTitle": false,
     "title": ""
    }
   },
   "outputs": [
    {
     "output_type": "stream",
     "name": "stdout",
     "output_type": "stream",
     "text": [
      "Requirement already satisfied: pip in /local_disk0/.ephemeral_nfs/envs/pythonEnv-2e668cb9-1bfb-4575-8df2-0bf9350a7a9b/lib/python3.9/site-packages (23.2.1)\nRequirement already satisfied: kafka-python in /local_disk0/.ephemeral_nfs/envs/pythonEnv-2e668cb9-1bfb-4575-8df2-0bf9350a7a9b/lib/python3.9/site-packages (2.0.2)\n"
     ]
    }
   ],
   "source": [
    "%sh\n",
    "pip install --upgrade pip\n",
    "pip install kafka-python"
   ]
  },
  {
   "cell_type": "code",
   "execution_count": 0,
   "metadata": {
    "application/vnd.databricks.v1+cell": {
     "cellMetadata": {
      "byteLimit": 2048000,
      "rowLimit": 10000
     },
     "inputWidgets": {},
     "nuid": "6bd28f90-dc33-4433-8095-50b011a41e85",
     "showTitle": false,
     "title": ""
    }
   },
   "outputs": [
    {
     "output_type": "stream",
     "name": "stderr",
     "output_type": "stream",
     "text": [
      "WARNING:kafka.coordinator.consumer:group_id is None: disabling auto-commit.\n"
     ]
    },
    {
     "output_type": "stream",
     "name": "stdout",
     "output_type": "stream",
     "text": [
      "Mensagem recebida! 04/10/2023 20:02:58.000878\nWrote 1 bytes.\nMensagem recebida! 04/10/2023 20:03:03.002029\nWrote 1 bytes.\nMensagem recebida! 04/10/2023 20:03:08.007861\nWrote 1 bytes.\nMensagem recebida! 04/10/2023 20:03:13.014103\nWrote 1 bytes.\nMensagem recebida! 04/10/2023 20:10:44.738506\nWrote 1 bytes.\nMensagem recebida! 04/10/2023 20:10:49.739118\nWrote 1 bytes.\nMensagem recebida! 04/10/2023 20:10:54.743851\nWrote 1 bytes.\nMensagem recebida! 04/10/2023 20:10:59.749292\nWrote 1 bytes.\n"
     ]
    },
    {
     "output_type": "display_data",
     "data": {
      "text/html": [
       "<style scoped>\n",
       "  .ansiout {\n",
       "    display: block;\n",
       "    unicode-bidi: embed;\n",
       "    white-space: pre-wrap;\n",
       "    word-wrap: break-word;\n",
       "    word-break: break-all;\n",
       "    font-family: \"Source Code Pro\", \"Menlo\", monospace;;\n",
       "    font-size: 13px;\n",
       "    color: #555;\n",
       "    margin-left: 4px;\n",
       "    line-height: 19px;\n",
       "  }\n",
       "</style>"
      ]
     },
     "metadata": {
      "application/vnd.databricks.v1+output": {
       "arguments": {},
       "data": "",
       "errorSummary": "Cancelled",
       "errorTraceType": "html",
       "metadata": {},
       "type": "ipynbError"
      }
     },
     "output_type": "display_data"
    }
   ],
   "source": [
    "# Execução do kafka consumer\n",
    "# Marcação de horário da mensagem recebida\n",
    "# Alteração de flag para atualização do parquet\n",
    "from datetime import datetime, timedelta\n",
    "import json\n",
    "import time\n",
    "from kafka import KafkaConsumer\n",
    "\n",
    "def atualiza_flag():\n",
    "    try:\n",
    "        dbutils.fs.rm('/FileStore/tables/projeto/flag.txt', True)\n",
    "        time.sleep(2)\n",
    "        dbutils.fs.put('/FileStore/tables/projeto/flag.txt', '1')\n",
    "    except Exception as e:\n",
    "        print(f'Erro ao atualizar o arquivo:\\n{e}')\n",
    "\n",
    "\n",
    "consumer = KafkaConsumer(\"1st_topic_news\", bootstrap_servers=[\"localhost:9092\"])\n",
    "for message in consumer:\n",
    "    agora = datetime.now() - timedelta(hours=3)\n",
    "    print(f\"Mensagem recebida! {agora.strftime('%d/%m/%Y %H:%M:%S.%f')}\")\n",
    "    atualiza_flag()\n",
    "    "
   ]
  }
 ],
 "metadata": {
  "application/vnd.databricks.v1+notebook": {
   "dashboards": [],
   "language": "python",
   "notebookMetadata": {
    "mostRecentlyExecutedCommandWithImplicitDF": {
     "commandId": 4180695766325027,
     "dataframes": [
      "_sqldf"
     ]
    },
    "pythonIndentUnit": 4
   },
   "notebookName": "projeto_pt4_kafka_consumer_data",
   "widgets": {}
  }
 },
 "nbformat": 4,
 "nbformat_minor": 0
}
