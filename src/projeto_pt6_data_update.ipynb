{
 "cells": [
  {
   "cell_type": "code",
   "execution_count": 0,
   "metadata": {
    "application/vnd.databricks.v1+cell": {
     "cellMetadata": {
      "byteLimit": 2048000,
      "rowLimit": 10000
     },
     "inputWidgets": {},
     "nuid": "615cda1d-2613-4576-8aff-3bc61055f71f",
     "showTitle": false,
     "title": ""
    }
   },
   "outputs": [
    {
     "output_type": "stream",
     "name": "stdout",
     "output_type": "stream",
     "text": [
      "Verificando novos dados... 04/10/2023 19:59:25\nDados atualizados no arquivo /FileStore/tables/projeto/news.parquet\nWrote 1 bytes.\nVerificando novos dados... 04/10/2023 20:00:02\nNão há novos dados para atualizar\nVerificando novos dados... 04/10/2023 20:00:32\nNão há novos dados para atualizar\nVerificando novos dados... 04/10/2023 20:01:02\nNão há novos dados para atualizar\nVerificando novos dados... 04/10/2023 20:01:32\nNão há novos dados para atualizar\nVerificando novos dados... 04/10/2023 20:02:03\nNão há novos dados para atualizar\nVerificando novos dados... 04/10/2023 20:02:33\nNão há novos dados para atualizar\nVerificando novos dados... 04/10/2023 20:03:03\nErro na atualização:\nAn error occurred while calling o396.head.\n: java.io.FileNotFoundException: /FileStore/tables/projeto/flag.txt\n\tat com.databricks.backend.daemon.data.client.DbfsClient.send0(DbfsClient.scala:121)\n\tat com.databricks.backend.daemon.data.client.DbfsClient.sendIdempotent(DbfsClient.scala:69)\n\tat com.databricks.backend.daemon.data.client.DatabricksFileSystemV1.getFileStatus(DatabricksFileSystemV1.scala:272)\n\tat com.databricks.backend.daemon.data.client.DatabricksFileSystem.getFileStatus(DatabricksFileSystem.scala:212)\n\tat com.databricks.backend.daemon.dbutils.FSUtils.$anonfun$head$3(DBUtilsCore.scala:407)\n\tat com.databricks.backend.daemon.dbutils.FSUtils.withFsSafetyCheck(DBUtilsCore.scala:145)\n\tat com.databricks.backend.daemon.dbutils.FSUtils.$anonfun$head$2(DBUtilsCore.scala:404)\n\tat com.databricks.backend.daemon.dbutils.FSUtils.checkPermission(DBUtilsCore.scala:140)\n\tat com.databricks.backend.daemon.dbutils.FSUtils.$anonfun$head$1(DBUtilsCore.scala:404)\n\tat com.databricks.logging.UsageLogging.$anonfun$recordOperation$1(UsageLogging.scala:555)\n\tat com.databricks.logging.UsageLogging.executeThunkAndCaptureResultTags$1(UsageLogging.scala:650)\n\tat com.databricks.logging.UsageLogging.$anonfun$recordOperationWithResultTags$4(UsageLogging.scala:671)\n\tat com.databricks.logging.UsageLogging.$anonfun$withAttributionContext$1(UsageLogging.scala:412)\n\tat scala.util.DynamicVariable.withValue(DynamicVariable.scala:62)\n\tat com.databricks.logging.AttributionContext$.withValue(AttributionContext.scala:158)\n\tat com.databricks.logging.UsageLogging.withAttributionContext(UsageLogging.scala:410)\n\tat com.databricks.logging.UsageLogging.withAttributionContext$(UsageLogging.scala:407)\n\tat com.databricks.backend.daemon.dbutils.FSUtils.withAttributionContext(DBUtilsCore.scala:69)\n\tat com.databricks.logging.UsageLogging.withAttributionTags(UsageLogging.scala:455)\n\tat com.databricks.logging.UsageLogging.withAttributionTags$(UsageLogging.scala:440)\n\tat com.databricks.backend.daemon.dbutils.FSUtils.withAttributionTags(DBUtilsCore.scala:69)\n\tat com.databricks.logging.UsageLogging.recordOperationWithResultTags(UsageLogging.scala:645)\n\tat com.databricks.logging.UsageLogging.recordOperationWithResultTags$(UsageLogging.scala:564)\n\tat com.databricks.backend.daemon.dbutils.FSUtils.recordOperationWithResultTags(DBUtilsCore.scala:69)\n\tat com.databricks.logging.UsageLogging.recordOperation(UsageLogging.scala:555)\n\tat com.databricks.logging.UsageLogging.recordOperation$(UsageLogging.scala:525)\n\tat com.databricks.backend.daemon.dbutils.FSUtils.recordOperation(DBUtilsCore.scala:69)\n\tat com.databricks.backend.daemon.dbutils.FSUtils.recordDbutilsFsOp(DBUtilsCore.scala:133)\n\tat com.databricks.backend.daemon.dbutils.FSUtils.head(DBUtilsCore.scala:403)\n\tat sun.reflect.GeneratedMethodAccessor706.invoke(Unknown Source)\n\tat sun.reflect.DelegatingMethodAccessorImpl.invoke(DelegatingMethodAccessorImpl.java:43)\n\tat java.lang.reflect.Method.invoke(Method.java:498)\n\tat py4j.reflection.MethodInvoker.invoke(MethodInvoker.java:244)\n\tat py4j.reflection.ReflectionEngine.invoke(ReflectionEngine.java:380)\n\tat py4j.Gateway.invoke(Gateway.java:306)\n\tat py4j.commands.AbstractCommand.invokeMethod(AbstractCommand.java:132)\n\tat py4j.commands.CallCommand.execute(CallCommand.java:79)\n\tat py4j.ClientServerConnection.waitForCommands(ClientServerConnection.java:195)\n\tat py4j.ClientServerConnection.run(ClientServerConnection.java:115)\n\tat java.lang.Thread.run(Thread.java:750)\n\nVerificando novos dados... 04/10/2023 20:03:33\nDados atualizados no arquivo /FileStore/tables/projeto/news.parquet\nWrote 1 bytes.\nVerificando novos dados... 04/10/2023 20:04:09\nNão há novos dados para atualizar\nVerificando novos dados... 04/10/2023 20:04:39\nNão há novos dados para atualizar\nVerificando novos dados... 04/10/2023 20:05:09\nNão há novos dados para atualizar\nVerificando novos dados... 04/10/2023 20:05:40\nNão há novos dados para atualizar\nVerificando novos dados... 04/10/2023 20:06:10\nNão há novos dados para atualizar\nVerificando novos dados... 04/10/2023 20:06:40\nNão há novos dados para atualizar\nVerificando novos dados... 04/10/2023 20:07:10\nNão há novos dados para atualizar\nVerificando novos dados... 04/10/2023 20:07:40\nNão há novos dados para atualizar\nVerificando novos dados... 04/10/2023 20:08:10\nNão há novos dados para atualizar\nVerificando novos dados... 04/10/2023 20:08:40\nNão há novos dados para atualizar\nVerificando novos dados... 04/10/2023 20:09:10\nNão há novos dados para atualizar\nVerificando novos dados... 04/10/2023 20:09:41\nNão há novos dados para atualizar\nVerificando novos dados... 04/10/2023 20:10:11\nNão há novos dados para atualizar\nVerificando novos dados... 04/10/2023 20:10:41\nNão há novos dados para atualizar\nVerificando novos dados... 04/10/2023 20:11:11\nDados atualizados no arquivo /FileStore/tables/projeto/news.parquet\nWrote 1 bytes.\nVerificando novos dados... 04/10/2023 20:11:47\nNão há novos dados para atualizar\nVerificando novos dados... 04/10/2023 20:12:17\nNão há novos dados para atualizar\nVerificando novos dados... 04/10/2023 20:12:47\nNão há novos dados para atualizar\nVerificando novos dados... 04/10/2023 20:13:18\nNão há novos dados para atualizar\nVerificando novos dados... 04/10/2023 20:13:48\nNão há novos dados para atualizar\nVerificando novos dados... 04/10/2023 20:14:18\nNão há novos dados para atualizar\nVerificando novos dados... 04/10/2023 20:14:48\nNão há novos dados para atualizar\nVerificando novos dados... 04/10/2023 20:15:18\nNão há novos dados para atualizar\nVerificando novos dados... 04/10/2023 20:15:48\nNão há novos dados para atualizar\nVerificando novos dados... 04/10/2023 20:16:19\nNão há novos dados para atualizar\nVerificando novos dados... 04/10/2023 20:16:49\nNão há novos dados para atualizar\nVerificando novos dados... 04/10/2023 20:17:19\nNão há novos dados para atualizar\nVerificando novos dados... 04/10/2023 20:17:49\nNão há novos dados para atualizar\nVerificando novos dados... 04/10/2023 20:18:19\nNão há novos dados para atualizar\nVerificando novos dados... 04/10/2023 20:18:49\nNão há novos dados para atualizar\nVerificando novos dados... 04/10/2023 20:19:19\nNão há novos dados para atualizar\nVerificando novos dados... 04/10/2023 20:19:49\nNão há novos dados para atualizar\nVerificando novos dados... 04/10/2023 20:20:20\nNão há novos dados para atualizar\nVerificando novos dados... 04/10/2023 20:20:50\nNão há novos dados para atualizar\nVerificando novos dados... 04/10/2023 20:21:20\nNão há novos dados para atualizar\nVerificando novos dados... 04/10/2023 20:21:50\nNão há novos dados para atualizar\nVerificando novos dados... 04/10/2023 20:22:20\nNão há novos dados para atualizar\nVerificando novos dados... 04/10/2023 20:22:50\nNão há novos dados para atualizar\nVerificando novos dados... 04/10/2023 20:23:20\nNão há novos dados para atualizar\nVerificando novos dados... 04/10/2023 20:23:51\nNão há novos dados para atualizar\nVerificando novos dados... 04/10/2023 20:24:21\nNão há novos dados para atualizar\nVerificando novos dados... 04/10/2023 20:24:51\nNão há novos dados para atualizar\nVerificando novos dados... 04/10/2023 20:25:21\nNão há novos dados para atualizar\nVerificando novos dados... 04/10/2023 20:25:51\nNão há novos dados para atualizar\nVerificando novos dados... 04/10/2023 20:26:21\nNão há novos dados para atualizar\nVerificando novos dados... 04/10/2023 20:26:51\nNão há novos dados para atualizar\nVerificando novos dados... 04/10/2023 20:27:22\nNão há novos dados para atualizar\nVerificando novos dados... 04/10/2023 20:27:52\nNão há novos dados para atualizar\nVerificando novos dados... 04/10/2023 20:28:22\nNão há novos dados para atualizar\nVerificando novos dados... 04/10/2023 20:28:52\nNão há novos dados para atualizar\nVerificando novos dados... 04/10/2023 20:29:22\nNão há novos dados para atualizar\nVerificando novos dados... 04/10/2023 20:29:52\nNão há novos dados para atualizar\nVerificando novos dados... 04/10/2023 20:30:22\nNão há novos dados para atualizar\nVerificando novos dados... 04/10/2023 20:30:53\nNão há novos dados para atualizar\nVerificando novos dados... 04/10/2023 20:31:23\nNão há novos dados para atualizar\nVerificando novos dados... 04/10/2023 20:31:53\nNão há novos dados para atualizar\nVerificando novos dados... 04/10/2023 20:32:23\nNão há novos dados para atualizar\nVerificando novos dados... 04/10/2023 20:32:53\nNão há novos dados para atualizar\nVerificando novos dados... 04/10/2023 20:33:23\nNão há novos dados para atualizar\nVerificando novos dados... 04/10/2023 20:33:53\nNão há novos dados para atualizar\nVerificando novos dados... 04/10/2023 20:34:24\nNão há novos dados para atualizar\nVerificando novos dados... 04/10/2023 20:34:54\nNão há novos dados para atualizar\nVerificando novos dados... 04/10/2023 20:35:24\nNão há novos dados para atualizar\nVerificando novos dados... 04/10/2023 20:35:54\nNão há novos dados para atualizar\nVerificando novos dados... 04/10/2023 20:36:24\nNão há novos dados para atualizar\nVerificando novos dados... 04/10/2023 20:36:54\nNão há novos dados para atualizar\nVerificando novos dados... 04/10/2023 20:37:24\nNão há novos dados para atualizar\nVerificando novos dados... 04/10/2023 20:37:55\nNão há novos dados para atualizar\nVerificando novos dados... 04/10/2023 20:38:25\nNão há novos dados para atualizar\nVerificando novos dados... 04/10/2023 20:38:55\nNão há novos dados para atualizar\nVerificando novos dados... 04/10/2023 20:39:25\nNão há novos dados para atualizar\nVerificando novos dados... 04/10/2023 20:39:55\nNão há novos dados para atualizar\nVerificando novos dados... 04/10/2023 20:40:25\nNão há novos dados para atualizar\n"
     ]
    },
    {
     "output_type": "display_data",
     "data": {
      "text/html": [
       "<style scoped>\n",
       "  .ansiout {\n",
       "    display: block;\n",
       "    unicode-bidi: embed;\n",
       "    white-space: pre-wrap;\n",
       "    word-wrap: break-word;\n",
       "    word-break: break-all;\n",
       "    font-family: \"Source Code Pro\", \"Menlo\", monospace;;\n",
       "    font-size: 13px;\n",
       "    color: #555;\n",
       "    margin-left: 4px;\n",
       "    line-height: 19px;\n",
       "  }\n",
       "</style>"
      ]
     },
     "metadata": {
      "application/vnd.databricks.v1+output": {
       "arguments": {},
       "data": "",
       "errorSummary": "Cancelled",
       "errorTraceType": "html",
       "metadata": {},
       "type": "ipynbError"
      }
     },
     "output_type": "display_data"
    }
   ],
   "source": [
    "import pyspark.pandas as ps\n",
    "from datetime import datetime, timedelta\n",
    "import time\n",
    "\n",
    "\n",
    "def atualiza_dados():\n",
    "    \"\"\"\n",
    "    Lê o arquivo com as notícias já armazenadas e atualiza com as novas notícias.\n",
    "    As notícias repetidas são removidas, mantendo somente as que possuem data de publicação mais recente.\n",
    "    \"\"\"\n",
    "    try:\n",
    "        flag = dbutils.fs.head('/FileStore/tables/projeto/flag.txt')\n",
    "        if flag == '1':\n",
    "            df_news = ps.read_table('%s.tb_news' % 'HEALTHGEN')\n",
    "            criterios_duplicidade = ['url']\n",
    "            df_news.drop_duplicates(subset=criterios_duplicidade, keep='last', inplace=True)\n",
    "            df_news.fillna('None', inplace=True)\n",
    "            \n",
    "            df_news.to_parquet('/FileStore/tables/projeto/news.parquet')\n",
    "            print(\"Dados atualizados no arquivo /FileStore/tables/projeto/news.parquet\")\n",
    "            \n",
    "            # df_news.to_table('HEALTHGEN.tb_news', 'parquet')\n",
    "            # print(\"Dados atualizados na tabela HEALTHGEN.tb_news\")\n",
    "\n",
    "            dbutils.fs.rm('/FileStore/tables/projeto/flag.txt', True)\n",
    "            time.sleep(2)\n",
    "            dbutils.fs.put('/FileStore/tables/projeto/flag.txt', '0')\n",
    "\n",
    "        else:\n",
    "            print(\"Não há novos dados para atualizar\")\n",
    "    except Exception as e:\n",
    "        print(f\"Erro na atualização:\\n{e}\")\n",
    "\n",
    "while True:\n",
    "    agora = datetime.now() - timedelta(hours=3)\n",
    "    print(f\"Verificando novos dados... {agora.strftime('%d/%m/%Y %H:%M:%S')}\")\n",
    "    atualiza_dados()\n",
    "    time.sleep(30)"
   ]
  },
  {
   "cell_type": "code",
   "execution_count": 0,
   "metadata": {
    "application/vnd.databricks.v1+cell": {
     "cellMetadata": {
      "byteLimit": 2048000,
      "implicitDf": true,
      "rowLimit": 10000
     },
     "inputWidgets": {},
     "nuid": "eb419bc5-1e28-46ab-a7c5-508125656064",
     "showTitle": false,
     "title": ""
    }
   },
   "outputs": [
    {
     "output_type": "display_data",
     "data": {
      "text/html": [
       "<style scoped>\n",
       "  .table-result-container {\n",
       "    max-height: 300px;\n",
       "    overflow: auto;\n",
       "  }\n",
       "  table, th, td {\n",
       "    border: 1px solid black;\n",
       "    border-collapse: collapse;\n",
       "  }\n",
       "  th, td {\n",
       "    padding: 5px;\n",
       "  }\n",
       "  th {\n",
       "    text-align: left;\n",
       "  }\n",
       "</style><div class='table-result-container'><table class='table-result'><thead style='background-color: white'><tr></tr></thead><tbody></tbody></table></div>"
      ]
     },
     "metadata": {
      "application/vnd.databricks.v1+output": {
       "addedWidgets": {},
       "aggData": [],
       "aggError": "",
       "aggOverflow": false,
       "aggSchema": [],
       "aggSeriesLimitReached": false,
       "aggType": "",
       "arguments": {},
       "columnCustomDisplayInfos": {},
       "data": [],
       "datasetInfos": [],
       "dbfsResultPath": null,
       "isJsonSchema": true,
       "metadata": {},
       "overflow": false,
       "plotOptions": {
        "customPlotOptions": {},
        "displayType": "table",
        "pivotAggregation": null,
        "pivotColumns": null,
        "xColumns": null,
        "yColumns": null
       },
       "removedWidgets": [],
       "schema": [],
       "type": "table"
      }
     },
     "output_type": "display_data"
    }
   ],
   "source": [
    "%sql\n",
    "-- Comando para removar cache\n",
    "REFRESH TABLE HEALTHGEN.tb_news"
   ]
  }
 ],
 "metadata": {
  "application/vnd.databricks.v1+notebook": {
   "dashboards": [],
   "language": "python",
   "notebookMetadata": {
    "mostRecentlyExecutedCommandWithImplicitDF": {
     "commandId": 2886801511058764,
     "dataframes": [
      "_sqldf"
     ]
    },
    "pythonIndentUnit": 4
   },
   "notebookName": "projeto_pt6_data_update",
   "widgets": {}
  }
 },
 "nbformat": 4,
 "nbformat_minor": 0
}
