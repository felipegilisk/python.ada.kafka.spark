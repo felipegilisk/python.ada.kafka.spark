{
 "cells": [
  {
   "cell_type": "code",
   "execution_count": 0,
   "metadata": {
    "application/vnd.databricks.v1+cell": {
     "cellMetadata": {
      "byteLimit": 2048000,
      "rowLimit": 10000
     },
     "inputWidgets": {},
     "nuid": "526950fb-26b9-4ffb-9a76-c964292cf086",
     "showTitle": false,
     "title": ""
    }
   },
   "outputs": [
    {
     "output_type": "stream",
     "name": "stdout",
     "output_type": "stream",
     "text": [
      "Requirement already satisfied: pip in /local_disk0/.ephemeral_nfs/envs/pythonEnv-edee73ae-cf21-4344-87b3-dec2d50cc834/lib/python3.9/site-packages (23.2.1)\nRequirement already satisfied: kafka-python in /local_disk0/.ephemeral_nfs/envs/pythonEnv-edee73ae-cf21-4344-87b3-dec2d50cc834/lib/python3.9/site-packages (2.0.2)\n"
     ]
    }
   ],
   "source": [
    "%sh\n",
    "pip install --upgrade pip\n",
    "pip install kafka-python"
   ]
  },
  {
   "cell_type": "code",
   "execution_count": 0,
   "metadata": {
    "application/vnd.databricks.v1+cell": {
     "cellMetadata": {
      "byteLimit": 2048000,
      "rowLimit": 10000
     },
     "inputWidgets": {},
     "nuid": "e31f1165-5db7-425b-99f8-02bf3283d7b2",
     "showTitle": false,
     "title": ""
    }
   },
   "outputs": [],
   "source": [
    "import pyspark.pandas as ps\n",
    "import requests\n",
    "from datetime import datetime, date, timedelta\n",
    "\n",
    "global termos\n",
    "termos = [\n",
    "        \"sequenciamento DNA\",\n",
    "        \"genomica\",\n",
    "        \"genoma\",\n",
    "        \"terapia genetica\"\n",
    "    ]\n",
    "\n",
    "def carrega_noticias():\n",
    "    \"\"\"\n",
    "    Busca as últimas notícias com base nos termos pré-definidos e as retorna em formato json\n",
    "    \"\"\"\n",
    "    ultima_data = (date.today() - timedelta(days=30)).strftime('%Y-%m-%d')\n",
    "    dados = list()\n",
    "    \n",
    "    chave_api = dbutils.fs.head('/FileStore/tables/projeto/token.txt')\n",
    "\n",
    "    for termo in termos:\n",
    "        termo_busca = termo.replace(\" \", \"+\")\n",
    "        url = f'https://newsapi.org/v2/everything?q={termo_busca}&language=pt&from={ultima_data}&sortBy=publishedAt&apiKey={chave_api}'\n",
    "        # &country=br\n",
    "        r = requests.get(url)\n",
    "        resultados = r.json()['articles']\n",
    "        for resultado in resultados:\n",
    "            resultado['searchTerm'] = termo\n",
    "            resultado['sourceId'] = resultado['source']['id']\n",
    "            resultado['source'] = resultado['source']['name']\n",
    "            if resultado['publishedAt'].startswith('2023'):\n",
    "                dados.append(resultado)\n",
    "\n",
    "    return dados\n"
   ]
  },
  {
   "cell_type": "code",
   "execution_count": 0,
   "metadata": {
    "application/vnd.databricks.v1+cell": {
     "cellMetadata": {
      "byteLimit": 2048000,
      "rowLimit": 10000
     },
     "inputWidgets": {},
     "nuid": "8731a603-1c07-4ad9-bdf6-269b158092c1",
     "showTitle": false,
     "title": ""
    }
   },
   "outputs": [],
   "source": [
    "import json\n",
    "from kafka import KafkaProducer\n",
    "\n",
    "produtor = KafkaProducer(bootstrap_servers=[\"localhost:9092\"])      # declara o produtor\n",
    "topico = \"1st_topic_news\"                                           # nome do tópico"
   ]
  },
  {
   "cell_type": "code",
   "execution_count": 0,
   "metadata": {
    "application/vnd.databricks.v1+cell": {
     "cellMetadata": {
      "byteLimit": 2048000,
      "rowLimit": 10000
     },
     "inputWidgets": {},
     "nuid": "e0353e65-7a60-4b73-b2e1-daa01c601713",
     "showTitle": false,
     "title": ""
    }
   },
   "outputs": [],
   "source": [
    "# Cria o arquivo news.parquet\n",
    "lista_noticias = carrega_noticias()\n",
    "df_news = ps.DataFrame(lista_noticias)\n",
    "df_news.to_parquet('/FileStore/tables/projeto/news.parquet')"
   ]
  },
  {
   "cell_type": "code",
   "execution_count": 0,
   "metadata": {
    "application/vnd.databricks.v1+cell": {
     "cellMetadata": {
      "byteLimit": 2048000,
      "rowLimit": 10000
     },
     "inputWidgets": {},
     "nuid": "2f7ca02b-caeb-4cab-95f3-c9e7115febef",
     "showTitle": false,
     "title": ""
    }
   },
   "outputs": [
    {
     "output_type": "stream",
     "name": "stdout",
     "output_type": "stream",
     "text": [
      "Total de notícias a processar: 4\nNotícia 1 de 4 enviada!\nNotícia 2 de 4 enviada!\nNotícia 3 de 4 enviada!\nNotícia 4 de 4 enviada!\n"
     ]
    },
    {
     "output_type": "display_data",
     "data": {
      "text/html": [
       "<style scoped>\n",
       "  .ansiout {\n",
       "    display: block;\n",
       "    unicode-bidi: embed;\n",
       "    white-space: pre-wrap;\n",
       "    word-wrap: break-word;\n",
       "    word-break: break-all;\n",
       "    font-family: \"Source Code Pro\", \"Menlo\", monospace;;\n",
       "    font-size: 13px;\n",
       "    color: #555;\n",
       "    margin-left: 4px;\n",
       "    line-height: 19px;\n",
       "  }\n",
       "</style>"
      ]
     },
     "metadata": {
      "application/vnd.databricks.v1+output": {
       "arguments": {},
       "data": "",
       "errorSummary": "Cancelled",
       "errorTraceType": "html",
       "metadata": {},
       "type": "ipynbError"
      }
     },
     "output_type": "display_data"
    }
   ],
   "source": [
    "import time\n",
    "\n",
    "while True:\n",
    "    lista_noticias = carrega_noticias()\n",
    "    lista_noticias = lista_noticias[:len(lista_noticias)//5]\n",
    "    print(f\"Total de notícias a processar: {len(lista_noticias)}\")\n",
    "\n",
    "    for i, noticia in enumerate(lista_noticias):\n",
    "        mensagem = json.dumps(noticia).encode('utf-8')\n",
    "        produtor.send(topico, mensagem)\n",
    "        print(f\"Notícia {i+1} de {len(lista_noticias)} enviada!\")\n",
    "        time.sleep(5)\n",
    "    \n",
    "    time.sleep(3600)"
   ]
  },
  {
   "cell_type": "code",
   "execution_count": 0,
   "metadata": {
    "application/vnd.databricks.v1+cell": {
     "cellMetadata": {},
     "inputWidgets": {},
     "nuid": "0d2a66ce-5a2c-476f-93f7-20637946bbd0",
     "showTitle": false,
     "title": ""
    }
   },
   "outputs": [],
   "source": []
  }
 ],
 "metadata": {
  "application/vnd.databricks.v1+notebook": {
   "dashboards": [],
   "language": "python",
   "notebookMetadata": {
    "mostRecentlyExecutedCommandWithImplicitDF": {
     "commandId": 1084601818357161,
     "dataframes": [
      "_sqldf"
     ]
    },
    "pythonIndentUnit": 4
   },
   "notebookName": "projeto_pt7_kafka_producer",
   "widgets": {}
  }
 },
 "nbformat": 4,
 "nbformat_minor": 0
}
